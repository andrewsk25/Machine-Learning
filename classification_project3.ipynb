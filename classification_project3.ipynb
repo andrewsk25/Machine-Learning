{
 "cells": [
  {
   "cell_type": "markdown",
   "source": [
    "Classification Project 3\n",
    "Kevin Andrews\n",
    "March 1st, 2024"
   ],
   "metadata": {
    "collapsed": false
   },
   "id": "a549a90129887a99"
  },
  {
   "cell_type": "code",
   "outputs": [],
   "source": [
    "from sklearn.compose import ColumnTransformer\n",
    "from sklearn.preprocessing import OneHotEncoder\n",
    "from sklearn.model_selection import GridSearchCV\n",
    "import pandas as pd\n",
    "from sklearn.model_selection import train_test_split\n",
    "from sklearn.pipeline import Pipeline\n",
    "from sklearn.linear_model import LogisticRegression\n",
    "from sklearn.metrics import accuracy_score, classification_report, confusion_matrix\n",
    "from sklearn.feature_selection import SelectKBest\n",
    "from sklearn.svm import SVC\n",
    "from sklearn.neighbors import KNeighborsClassifier\n",
    "from sklearn.naive_bayes import GaussianNB\n",
    "from sklearn.preprocessing import FunctionTransformer\n",
    "from sklearn.tree import DecisionTreeClassifier\n",
    "from sklearn.ensemble import RandomForestClassifier\n",
    "import matplotlib.pyplot as plt\n",
    "\n"
   ],
   "metadata": {
    "collapsed": true,
    "ExecuteTime": {
     "end_time": "2024-04-04T21:39:43.741328Z",
     "start_time": "2024-04-04T21:39:41.522477Z"
    }
   },
   "id": "initial_id",
   "execution_count": 1
  },
  {
   "cell_type": "code",
   "outputs": [
    {
     "data": {
      "text/plain": "['Cl.thickness',\n 'Cell.size',\n 'Cell.shape',\n 'Marg.adhesion',\n 'Epith.c.size',\n 'Bare.nuclei',\n 'Bl.cromatin',\n 'Normal.nucleoli',\n 'Mitoses']"
     },
     "execution_count": 2,
     "metadata": {},
     "output_type": "execute_result"
    }
   ],
   "source": [
    "# Load the data\n",
    "dat = pd.read_csv('WI_breast_cancer.csv')\n",
    "\n",
    "# Drop rows with missing values\n",
    "dat_cleaned = dat.dropna().copy()\n",
    "\n",
    "# Split data\n",
    "train_set, test_set = train_test_split(dat_cleaned, test_size=0.2, random_state=42)\n",
    "\n",
    "# Define features and labels\n",
    "X_train = train_set.drop([\"Class\", \"Id\", \"Unnamed: 0\"], axis=1)\n",
    "y_train = train_set[\"Class\"]\n",
    "X_test = test_set.drop([\"Class\", \"Id\", \"Unnamed: 0\"], axis=1)\n",
    "y_test = test_set[\"Class\"]\n",
    "\n",
    "# Define categorical attributes\n",
    "cat_attribs = list(X_train)\n",
    "cat_attribs"
   ],
   "metadata": {
    "collapsed": false,
    "ExecuteTime": {
     "end_time": "2024-04-04T21:40:37.438921Z",
     "start_time": "2024-04-04T21:40:37.399422Z"
    }
   },
   "id": "f151085a2e0dcf98",
   "execution_count": 2
  },
  {
   "cell_type": "markdown",
   "source": [
    "I have loaded the data, then dropped any rows with missing data, then created the training and testing set. We have defined our attributes so we can access them and know which ones are of highest importance in predicting cancer"
   ],
   "metadata": {
    "collapsed": false
   },
   "id": "88f71117710493c"
  },
  {
   "cell_type": "code",
   "outputs": [],
   "source": [
    "#creating the pipeline \n",
    "cat_pipeline = Pipeline([\n",
    "    ('onehot', OneHotEncoder(handle_unknown='ignore')),\n",
    "])\n",
    "\n",
    "# Combine pipelines into a single preprocessing pipeline\n",
    "preprocessing_pipeline = ColumnTransformer([\n",
    "    ('cat', cat_pipeline, cat_attribs),\n",
    "])\n",
    "\n"
   ],
   "metadata": {
    "collapsed": false,
    "ExecuteTime": {
     "end_time": "2024-04-04T21:40:39.511403Z",
     "start_time": "2024-04-04T21:40:39.504366Z"
    }
   },
   "id": "80b5c67d570ef32",
   "execution_count": 3
  },
  {
   "cell_type": "code",
   "outputs": [
    {
     "name": "stdout",
     "output_type": "stream",
     "text": [
      "Naive Bayes Model Accuracy: 0.9635036496350365\n",
      "Confusion Matrix for Naive Bayes:\n",
      "[[75  4]\n",
      " [ 1 57]]\n",
      "Best Parameters for Naive Bayes: {'feature_selection__k': 8}\n"
     ]
    }
   ],
   "source": [
    "# to solve error\n",
    "to_dense_transformer = FunctionTransformer(lambda x: x.toarray(), accept_sparse=True)\n",
    "\n",
    "\n",
    "# Define the full pipeline\n",
    "full_pipeline_grid_search_nb = Pipeline([\n",
    "    ('preprocessing', preprocessing_pipeline),\n",
    "    ('to_dense', to_dense_transformer),  # Convert sparse to dense\n",
    "    ('feature_selection', SelectKBest()),\n",
    "    ('model', GaussianNB()),\n",
    "])\n",
    "\n",
    "#parameters\n",
    "param_grid_naive_bayes = {\n",
    "    'feature_selection__k': list(range(1,9))  \n",
    "}\n",
    "\n",
    "# Set up GridSearchCV for Naive Bayes\n",
    "grid_search_nb = GridSearchCV(full_pipeline_grid_search_nb, param_grid_naive_bayes,\n",
    "                              cv=5, scoring='accuracy', return_train_score=True)\n",
    "\n",
    "# Train the GridSearchCV model for Naive Bayes\n",
    "grid_search_nb.fit(X_train, y_train)\n",
    "\n",
    "# Get the best model for Naive Bayes\n",
    "best_model_nb = grid_search_nb.best_estimator_\n",
    "\n",
    "# Test the best Naive Bayes model\n",
    "y_pred_grid_search_nb = best_model_nb.predict(X_test)\n",
    "\n",
    "# Evaluate the best Naive Bayes model\n",
    "accuracy_nb = accuracy_score(y_test, y_pred_grid_search_nb)\n",
    "print('Naive Bayes Model Accuracy:', accuracy_nb)\n",
    "print('Confusion Matrix for Naive Bayes:')\n",
    "print(confusion_matrix(y_test, y_pred_grid_search_nb))\n",
    "\n",
    "# Print the best parameters for Naive Bayes\n",
    "print('Best Parameters for Naive Bayes:', grid_search_nb.best_params_)"
   ],
   "metadata": {
    "collapsed": false,
    "ExecuteTime": {
     "end_time": "2024-04-04T21:40:41.368135Z",
     "start_time": "2024-04-04T21:40:41.100666Z"
    }
   },
   "id": "2945077ab39c1a37",
   "execution_count": 4
  },
  {
   "cell_type": "markdown",
   "source": [
    "I remember you saying that Naive Bays is a good floor. The accuracy was fairly high, but less than logistic. It makes sense it is not perfect since the data in some of the variables is skewed and this model performs better with heavily clustered data that is normal. "
   ],
   "metadata": {
    "collapsed": false
   },
   "id": "e519a6283ef18230"
  },
  {
   "cell_type": "code",
   "outputs": [
    {
     "name": "stdout",
     "output_type": "stream",
     "text": [
      "Accuracy: 0.9562043795620438\n",
      "Confusion Matrix:\n",
      "[[77  2]\n",
      " [ 4 54]]\n"
     ]
    }
   ],
   "source": [
    "# Define the full pipeline\n",
    "full_pipeline_logistic_regression = Pipeline([\n",
    "    ('preprocessing', preprocessing_pipeline),\n",
    "    ('model', LogisticRegression(random_state=42)),\n",
    "])\n",
    "\n",
    "# Train model\n",
    "full_pipeline_logistic_regression.fit(X_train, y_train)\n",
    "\n",
    "# Test model\n",
    "y_pred_logistic_regression = full_pipeline_logistic_regression.predict(X_test)\n",
    "\n",
    "# Evaluate the model \n",
    "accuracy = accuracy_score(y_test, y_pred_logistic_regression )\n",
    "print('Accuracy:', accuracy)\n",
    "print('Confusion Matrix:')\n",
    "print(confusion_matrix(y_test, y_pred_logistic_regression ))\n"
   ],
   "metadata": {
    "collapsed": false,
    "ExecuteTime": {
     "end_time": "2024-04-04T21:40:42.756282Z",
     "start_time": "2024-04-04T21:40:42.736955Z"
    }
   },
   "id": "c39a5e5de0b4f982",
   "execution_count": 5
  },
  {
   "cell_type": "markdown",
   "source": [
    "This is just running a normal logistic regression and not adding parameters and using all the variables. I expected this to perform better than the naive bays but right now it is currently overfit. I am leaving the code to have something to compare to. "
   ],
   "metadata": {
    "collapsed": false
   },
   "id": "83039452eef9e511"
  },
  {
   "cell_type": "code",
   "outputs": [
    {
     "name": "stdout",
     "output_type": "stream",
     "text": [
      "Best Model Accuracy: 0.9781021897810219\n",
      "Confusion Matrix:\n",
      "[[78  1]\n",
      " [ 2 56]]\n",
      "Best Parameters: {'feature_selection__k': 7}\n"
     ]
    }
   ],
   "source": [
    "#logistic reg grid\n",
    "\n",
    "# Define the full pipeline\n",
    "full_pipeline_grid_search = Pipeline([\n",
    "    ('preprocessing', preprocessing_pipeline),\n",
    "    ('feature_selection', SelectKBest()),\n",
    "    ('model', LogisticRegression(random_state=42)),\n",
    "])\n",
    "\n",
    "# Define the parameterd\n",
    "param_grid_logistic_regression = {\n",
    "    'feature_selection__k': list(range(1,9))\n",
    "    \n",
    "}\n",
    "\n",
    "# Set up GridSearchCV\n",
    "grid_search = GridSearchCV(full_pipeline_grid_search, param_grid_logistic_regression,\n",
    "                           cv=5, scoring='accuracy', return_train_score=True)\n",
    "\n",
    "# Train the GridSearchCV model\n",
    "grid_search.fit(X_train, y_train)\n",
    "\n",
    "# Get the best model\n",
    "best_model_log = grid_search.best_estimator_\n",
    "\n",
    "# Test the best model\n",
    "y_pred_grid_search = best_model_log.predict(X_test)\n",
    "\n",
    "# Evaluate the best model\n",
    "accuracy = accuracy_score(y_test, y_pred_grid_search)\n",
    "print('Best Model Accuracy:', accuracy)\n",
    "print('Confusion Matrix:')\n",
    "print(confusion_matrix(y_test, y_pred_grid_search))\n",
    "\n",
    "# You can also print the best parameters if you want\n",
    "print('Best Parameters:', grid_search.best_params_)"
   ],
   "metadata": {
    "collapsed": false,
    "ExecuteTime": {
     "end_time": "2024-04-04T21:40:44.608921Z",
     "start_time": "2024-04-04T21:40:44.300522Z"
    }
   },
   "id": "8374c7d6289d6b0d",
   "execution_count": 6
  },
  {
   "cell_type": "markdown",
   "source": [
    "This performed better when using less variables. The 97.8% accuracy and the low false positives and true negatives are a great sign. So far this is the best model. "
   ],
   "metadata": {
    "collapsed": false
   },
   "id": "6a2618b01195f962"
  },
  {
   "cell_type": "code",
   "outputs": [
    {
     "name": "stdout",
     "output_type": "stream",
     "text": [
      "             Feature  Coefficient\n",
      "0        Cell.size_1    -1.510635\n",
      "1       Cell.shape_1    -1.311040\n",
      "2    Marg.adhesion_1    -0.970062\n",
      "3     Epith.c.size_2    -1.438672\n",
      "4    Bare.nuclei_1.0    -1.818578\n",
      "5   Bare.nuclei_10.0     1.914942\n",
      "6  Normal.nucleoli_1    -1.068889\n"
     ]
    }
   ],
   "source": [
    "\n",
    "transformed_feature_names = preprocessing_pipeline.named_transformers_['cat'].named_steps['onehot'].get_feature_names_out(cat_attribs)\n",
    "\n",
    "# Get the mask of selected features\n",
    "selected_mask = best_model_log.named_steps['feature_selection'].get_support()\n",
    "# Apply mask to the transformed feature names to get only the selected feature names\n",
    "selected_feature_names = transformed_feature_names[selected_mask]\n",
    "\n",
    "# Get the coefficients from the logistic regression model\n",
    "coefficients = best_model_log.named_steps['model'].coef_[0]\n",
    "\n",
    "# Create a DataFrame to display feature names and their corresponding coefficients\n",
    "feature_weights = pd.DataFrame({\n",
    "    'Feature': selected_feature_names,\n",
    "    'Coefficient': coefficients\n",
    "})\n",
    "\n",
    "print(feature_weights)\n",
    "\n"
   ],
   "metadata": {
    "collapsed": false,
    "ExecuteTime": {
     "end_time": "2024-04-04T21:40:46.099658Z",
     "start_time": "2024-04-04T21:40:46.093773Z"
    }
   },
   "id": "328aff731889fe4e",
   "execution_count": 7
  },
  {
   "cell_type": "code",
   "outputs": [
    {
     "name": "stdout",
     "output_type": "stream",
     "text": [
      "Model Accuracy: 0.9708029197080292\n",
      "Confusion Matrix:\n",
      "[[77  2]\n",
      " [ 2 56]]\n"
     ]
    }
   ],
   "source": [
    "# Define the full pipeline \n",
    "full_pipeline_svm = Pipeline([\n",
    "    ('preprocessing', preprocessing_pipeline),\n",
    "    ('feature_selection', SelectKBest(k=7)),  \n",
    "    ('model', SVC(kernel='poly', degree=1, C=.1, max_iter=10000, random_state=42)),\n",
    "])\n",
    "\n",
    "# Train the model\n",
    "full_pipeline_svm.fit(X_train, y_train)\n",
    "\n",
    "# Predict using the trained model\n",
    "y_pred_svm = full_pipeline_svm.predict(X_test)\n",
    "\n",
    "# Evaluate the model\n",
    "accuracy_svm = accuracy_score(y_test, y_pred_svm)\n",
    "print('Model Accuracy:', accuracy_svm)\n",
    "print('Confusion Matrix:')\n",
    "print(confusion_matrix(y_test, y_pred_svm))\n"
   ],
   "metadata": {
    "collapsed": false,
    "ExecuteTime": {
     "end_time": "2024-04-04T21:40:47.920144Z",
     "start_time": "2024-04-04T21:40:47.902340Z"
    }
   },
   "id": "c7cc5b9831bf0261",
   "execution_count": 8
  },
  {
   "cell_type": "markdown",
   "source": [
    "I experimented with the number of features and found that using 7 gave the highest accuracy. I also manipulated the number of degrees and 3 was fairly accurate but when I changed other parameters I found that using a linear line was sometimes better. I found using these parameters listed above gave fairly accurate testing results. In the next coding cell I will use cross validation and grid search to find the best parameter. "
   ],
   "metadata": {
    "collapsed": false
   },
   "id": "9fcceddeeabffcc5"
  },
  {
   "cell_type": "code",
   "outputs": [
    {
     "name": "stdout",
     "output_type": "stream",
     "text": [
      "Fitting 5 folds for each of 200 candidates, totalling 1000 fits\n",
      "Best parameters found:  {'feature_selection__k': 8, 'model__C': 0.01, 'model__degree': 1, 'model__kernel': 'poly'}\n",
      "Best cross-validation score (accuracy): 0.954\n",
      "Model Accuracy: 0.9635036496350365\n",
      "Confusion Matrix:\n",
      "[[74  5]\n",
      " [ 0 58]]\n"
     ]
    }
   ],
   "source": [
    "# Define the full pipeline \n",
    "full_pipeline_svm_grid = Pipeline([\n",
    "    ('preprocessing', preprocessing_pipeline),\n",
    "    ('feature_selection', SelectKBest()),  \n",
    "    ('model', SVC(random_state=42, max_iter=10000)),\n",
    "])\n",
    "\n",
    "# Define the parameter grid to search\n",
    "param_svm_grid = {\n",
    "    'feature_selection__k': list(range(1,9)),  # Example values\n",
    "    'model__C': [0.01, .1, 1, 10, 100],\n",
    "    'model__kernel': ['poly'],\n",
    "    'model__degree': [1,3,5,7,9],\n",
    "}\n",
    "\n",
    "\n",
    "# Set up the GridSearchCV object\n",
    "grid_search = GridSearchCV(full_pipeline_svm_grid, param_svm_grid, cv=5, scoring='accuracy', verbose=1)\n",
    "\n",
    "# Fit the GridSearchCV object to find the best model\n",
    "grid_search.fit(X_train, y_train)\n",
    "\n",
    "# Print the best parameters and the best score\n",
    "print(\"Best parameters found: \", grid_search.best_params_)\n",
    "print(\"Best cross-validation score (accuracy): {:.3f}\".format(grid_search.best_score_))\n",
    "\n",
    "# Predict using the best model\n",
    "best_model = grid_search.best_estimator_\n",
    "y_pred_svm = best_model.predict(X_test)\n",
    "\n",
    "# Evaluate the best model\n",
    "accuracy_svm = accuracy_score(y_test, y_pred_svm)\n",
    "print('Model Accuracy:', accuracy_svm)\n",
    "print('Confusion Matrix:')\n",
    "print(confusion_matrix(y_test, y_pred_svm))"
   ],
   "metadata": {
    "collapsed": false,
    "ExecuteTime": {
     "end_time": "2024-04-04T21:40:55.489645Z",
     "start_time": "2024-04-04T21:40:49.440306Z"
    }
   },
   "id": "fd75fe53239f3beb",
   "execution_count": 9
  },
  {
   "cell_type": "markdown",
   "source": [
    "It didn't do any better than when I manually imputed the parameters unless we care about reducing the false positive. I am not surprised this didn't perform incredibly well since it seems like drawing a line through the data trying to maximize the margins for this data would not be that accurate since the data is messy."
   ],
   "metadata": {
    "collapsed": false
   },
   "id": "a4fe1aeadc32e019"
  },
  {
   "cell_type": "code",
   "outputs": [
    {
     "name": "stdout",
     "output_type": "stream",
     "text": [
      "Fitting 5 folds for each of 40 candidates, totalling 200 fits\n",
      "Best parameters found for KNN:  {'feature_selection__k': 8, 'model__n_neighbors': 7}\n",
      "Best cross-validation score (accuracy) for KNN: 0.943\n",
      "KNN Model Accuracy: 0.9708029197080292\n",
      "Confusion Matrix for KNN:\n",
      "[[77  2]\n",
      " [ 2 56]]\n"
     ]
    }
   ],
   "source": [
    "# KNeighborsClassifier \n",
    "\n",
    "# Define the full pipeline for KNN\n",
    "full_pipeline_knn_grid = Pipeline([\n",
    "    ('preprocessing', preprocessing_pipeline),\n",
    "    ('feature_selection', SelectKBest()),  \n",
    "    ('model', KNeighborsClassifier()),\n",
    "])\n",
    "\n",
    "# Define the parameter grid to search for KNN\n",
    "param_knn_grid = {\n",
    "    'feature_selection__k': list(range(1, 9)),  \n",
    "    'model__n_neighbors': [3, 5, 7, 9, 11],  \n",
    "}\n",
    "\n",
    "# Set up the GridSearchCV object for KNN\n",
    "grid_search_knn = GridSearchCV(full_pipeline_knn_grid, param_knn_grid, cv=5, scoring='accuracy', verbose=1)\n",
    "\n",
    "# Fit the GridSearchCV object to find the best KNN model\n",
    "grid_search_knn.fit(X_train, y_train)\n",
    "\n",
    "# Print the best parameters and the best score for KNN\n",
    "print(\"Best parameters found for KNN: \", grid_search_knn.best_params_)\n",
    "print(\"Best cross-validation score (accuracy) for KNN: {:.3f}\".format(grid_search_knn.best_score_))\n",
    "\n",
    "# Predict using the best KNN model\n",
    "best_model_knn = grid_search_knn.best_estimator_\n",
    "y_pred_knn = best_model_knn.predict(X_test)\n",
    "\n",
    "# Evaluate the best KNN model\n",
    "accuracy_knn = accuracy_score(y_test, y_pred_knn)\n",
    "print('KNN Model Accuracy:', accuracy_knn)\n",
    "print('Confusion Matrix for KNN:')\n",
    "print(confusion_matrix(y_test, y_pred_knn))"
   ],
   "metadata": {
    "collapsed": false,
    "ExecuteTime": {
     "end_time": "2024-04-04T21:41:01.488288Z",
     "start_time": "2024-04-04T21:40:59.167818Z"
    }
   },
   "id": "157f421a14e8d20e",
   "execution_count": 10
  },
  {
   "cell_type": "markdown",
   "source": [
    "K-nearest neighbors sounded like a great model since I feel like there is a very high chance data next to each other behave similarly and will be benign and malignant at the same rate. This was fairly true and the model performed very well. I expect decision trees to perform even better. "
   ],
   "metadata": {
    "collapsed": false
   },
   "id": "43bef77476543a2"
  },
  {
   "cell_type": "code",
   "outputs": [
    {
     "name": "stdout",
     "output_type": "stream",
     "text": [
      "Fitting 5 folds for each of 512 candidates, totalling 2560 fits\n",
      "Best parameters found for Decision Tree:  {'feature_selection__k': 8, 'model__max_depth': 10, 'model__min_samples_leaf': 2, 'model__min_samples_split': 2}\n",
      "Best cross-validation score (accuracy) for Decision Tree: 0.941\n",
      "Decision Tree Model Accuracy: 0.9708029197080292\n",
      "Confusion Matrix for Decision Tree:\n",
      "[[78  1]\n",
      " [ 3 55]]\n"
     ]
    }
   ],
   "source": [
    "full_pipeline_dt_grid = Pipeline([\n",
    "    ('preprocessing', preprocessing_pipeline),\n",
    "    ('feature_selection', SelectKBest()),  \n",
    "    ('model', DecisionTreeClassifier(random_state=42)),\n",
    "])\n",
    "\n",
    "# Define the parameter grid to search for Decision Trees\n",
    "param_dt_grid = {\n",
    "    'feature_selection__k': list(range(1, 9)),  \n",
    "    'model__max_depth': [ 5, 10, 15,20],  \n",
    "    'model__min_samples_split': [2, 3, 5, 10],  # Example values for min samples to split\n",
    "    'model__min_samples_leaf': [1, 2, 4, 8],  # Example values for min samples in a leaf\n",
    "}\n",
    "\n",
    "# Set up the GridSearchCV object for Decision Trees\n",
    "grid_search_dt = GridSearchCV(full_pipeline_dt_grid, param_dt_grid, cv=5, scoring='accuracy', verbose=1)\n",
    "\n",
    "# Fit the GridSearchCV object to find the best Decision Tree model\n",
    "grid_search_dt.fit(X_train, y_train)\n",
    "\n",
    "# Print the best parameters and the best score for Decision Trees\n",
    "print(\"Best parameters found for Decision Tree: \", grid_search_dt.best_params_)\n",
    "print(\"Best cross-validation score (accuracy) for Decision Tree: {:.3f}\".format(grid_search_dt.best_score_))\n",
    "\n",
    "# Predict using the best Decision Tree model\n",
    "best_model_dt = grid_search_dt.best_estimator_\n",
    "y_pred_dt = best_model_dt.predict(X_test)\n",
    "\n",
    "# Evaluate the best Decision Tree model\n",
    "accuracy_dt = accuracy_score(y_test, y_pred_dt)\n",
    "print('Decision Tree Model Accuracy:', accuracy_dt)\n",
    "print('Confusion Matrix for Decision Tree:')\n",
    "print(confusion_matrix(y_test, y_pred_dt))"
   ],
   "metadata": {
    "collapsed": false,
    "ExecuteTime": {
     "end_time": "2024-04-04T21:41:17.826797Z",
     "start_time": "2024-04-04T21:41:04.437079Z"
    }
   },
   "id": "e9bab1c94d6ee45d",
   "execution_count": 11
  },
  {
   "cell_type": "markdown",
   "source": [
    "This code took a lot longer to run which is obviously expected but it didn't perform any more accurate. I expected decision tree to be the best test so far, since decision trees are great at capturing non-linear relationships. I tried to give a wide range of depth and min for continual split and making decisions. These results are still quite high but with more data this may not be the best method especially with all the grid searching I was performing. I expect random forests to perform better than the decision tree. "
   ],
   "metadata": {
    "collapsed": false
   },
   "id": "4ec6530d9e5fefeb"
  },
  {
   "cell_type": "code",
   "outputs": [
    {
     "name": "stdout",
     "output_type": "stream",
     "text": [
      "Fitting 5 folds for each of 648 candidates, totalling 3240 fits\n",
      "Best parameters found for Random Forest:  {'feature_selection__k': 7, 'model__max_depth': 5, 'model__min_samples_leaf': 4, 'model__min_samples_split': 2, 'model__n_estimators': 300}\n",
      "Best cross-validation score (accuracy) for Random Forest: 0.947\n",
      "Random Forest Model Accuracy: 0.9781021897810219\n",
      "Confusion Matrix for Random Forest:\n",
      "[[78  1]\n",
      " [ 2 56]]\n"
     ]
    }
   ],
   "source": [
    "# Define the full pipeline for Random Forests\n",
    "full_pipeline_rf_grid = Pipeline([\n",
    "    ('preprocessing', preprocessing_pipeline),\n",
    "    ('feature_selection', SelectKBest()),  \n",
    "    ('model', RandomForestClassifier(random_state=42)),\n",
    "])\n",
    "\n",
    "# Define the parameter grid to search for Random Forests\n",
    "param_rf_grid = {\n",
    "    'feature_selection__k': list(range(1, 9)),  \n",
    "    'model__max_depth': [5, 10, 15],  \n",
    "    'model__min_samples_split': [2, 3, 5],  \n",
    "    'model__min_samples_leaf': [1, 2, 4],  \n",
    "    'model__n_estimators': [100, 200, 300],  # Number of trees in the forest\n",
    "}\n",
    "\n",
    "# Set up the GridSearchCV object for Random Forests\n",
    "grid_search_rf = GridSearchCV(full_pipeline_rf_grid, param_rf_grid, cv=5, scoring='accuracy', verbose=1)\n",
    "\n",
    "# Fit the GridSearchCV object to find the best Random Forest model\n",
    "grid_search_rf.fit(X_train, y_train)\n",
    "\n",
    "# Print the best parameters and the best score for Random Forests\n",
    "print(\"Best parameters found for Random Forest: \", grid_search_rf.best_params_)\n",
    "print(\"Best cross-validation score (accuracy) for Random Forest: {:.3f}\".format(grid_search_rf.best_score_))\n",
    "\n",
    "# Predict using the best Random Forest model\n",
    "best_model_rf_compare = grid_search_rf.best_estimator_\n",
    "y_pred_rf = best_model_rf_compare.predict(X_test)\n",
    "\n",
    "# Evaluate the best Random Forest model\n",
    "accuracy_rf = accuracy_score(y_test, y_pred_rf)\n",
    "print('Random Forest Model Accuracy:', accuracy_rf)\n",
    "print('Confusion Matrix for Random Forest:')\n",
    "print(confusion_matrix(y_test, y_pred_rf))"
   ],
   "metadata": {
    "collapsed": false,
    "ExecuteTime": {
     "end_time": "2024-04-04T21:46:37.056Z",
     "start_time": "2024-04-04T21:41:43.017083Z"
    }
   },
   "id": "5e2dd6966a43ec50",
   "execution_count": 12
  },
  {
   "cell_type": "markdown",
   "source": [
    "This code took forever but the fact that it chose the max number of random forest models and min for leafs I want to increase these amount. I will run a separate code, since the code takes forever to run and I want to be better able to compare. "
   ],
   "metadata": {
    "collapsed": false
   },
   "id": "18d1b7fc9a7be8ae"
  },
  {
   "cell_type": "code",
   "outputs": [
    {
     "name": "stdout",
     "output_type": "stream",
     "text": [
      "Fitting 5 folds for each of 360 candidates, totalling 1800 fits\n",
      "Best parameters found for Random Forest:  {'model__max_depth': 5, 'model__max_leaf_nodes': 10, 'model__min_samples_leaf': 4, 'model__min_samples_split': 2, 'model__n_estimators': 500}\n",
      "Best cross-validation score (accuracy) for Random Forest: 0.947\n",
      "Random Forest Model Accuracy: 0.9781021897810219\n",
      "Confusion Matrix for Random Forest:\n",
      "[[78  1]\n",
      " [ 2 56]]\n"
     ]
    }
   ],
   "source": [
    "# Define the full pipeline for Random Forests \n",
    "full_pipeline_rf_grid_2 = Pipeline([\n",
    "    ('preprocessing', preprocessing_pipeline),\n",
    "    ('feature_selection', SelectKBest(k=7)),  \n",
    "    ('model', RandomForestClassifier(random_state=42)),\n",
    "])\n",
    "\n",
    "# Define the parameter grid to search for Random Forests\n",
    "param_rf_grid_2 = {\n",
    "    'model__max_depth': [1, 2, 5, 10, 15],  \n",
    "    'model__min_samples_split': [2, 3],  \n",
    "    'model__min_samples_leaf': [2, 4, 8],  \n",
    "    'model__max_leaf_nodes': [3, 5, 10, 20],\n",
    "    'model__n_estimators': [300, 400, 500],  # Number of trees in the forest\n",
    "}\n",
    "\n",
    "# Set up the GridSearchCV object for Random Forests\n",
    "grid_search_rf = GridSearchCV(full_pipeline_rf_grid_2, param_rf_grid_2, cv=5, scoring='accuracy', verbose=1)\n",
    "\n",
    "# Fit the GridSearchCV object to find the best Random Forest model\n",
    "grid_search_rf.fit(X_train, y_train)\n",
    "\n",
    "# Print the best parameters and the best score for Random Forests\n",
    "print(\"Best parameters found for Random Forest: \", grid_search_rf.best_params_)\n",
    "print(\"Best cross-validation score (accuracy) for Random Forest: {:.3f}\".format(grid_search_rf.best_score_))\n",
    "\n",
    "# Predict using the best Random Forest model\n",
    "best_model_rf = grid_search_rf.best_estimator_\n",
    "y_pred_rf = best_model_rf.predict(X_test)\n",
    "\n",
    "# Evaluate the best Random Forest model\n",
    "accuracy_rf = accuracy_score(y_test, y_pred_rf)\n",
    "print('Random Forest Model Accuracy:', accuracy_rf)\n",
    "print('Confusion Matrix for Random Forest:')\n",
    "print(confusion_matrix(y_test, y_pred_rf))"
   ],
   "metadata": {
    "collapsed": false,
    "ExecuteTime": {
     "end_time": "2024-04-04T21:53:19.882301Z",
     "start_time": "2024-04-04T21:48:04.159744Z"
    }
   },
   "id": "27e08664b6474d14",
   "execution_count": 13
  },
  {
   "cell_type": "markdown",
   "source": [
    "I used 7 for my feature selection since the last decision tree and my logistic regression used 7. In the first project I also found 7 variables were best since cell.size and cell shape were very correlated and mitoses was not very correlated with class. I could have gotten rid of these two probably from the start, but decided to keep them in case I was missing something. I decided to set 300 as the low end for the number of trees in the forest since 300 was the highest last time. I wanted to add a new feature of max leaf nodes to maybe limit the complexity of the model. In the end it performed the same. I will go forward using the previous random forest since it's complexity is a little lower with the 300 trees vs 500. "
   ],
   "metadata": {
    "collapsed": false
   },
   "id": "c9b69f6f1410fcfc"
  },
  {
   "cell_type": "markdown",
   "source": [
    "Now I will compare the soft classification of the models. I will only compare logistic regression model and the random forest. \n",
    "I want to know which model is making classifications off higher confidence or probability. "
   ],
   "metadata": {
    "collapsed": false
   },
   "id": "64a4a9a6fd8b80a7"
  },
  {
   "cell_type": "code",
   "outputs": [
    {
     "name": "stdout",
     "output_type": "stream",
     "text": [
      "Average prediction confidence for Logistic Regression: 0.9297\n",
      "Average prediction confidence for Random Forest: 0.9151\n"
     ]
    },
    {
     "data": {
      "text/plain": "<Figure size 640x480 with 2 Axes>",
      "image/png": "[encoded data removed]"
     },
     "metadata": {},
     "output_type": "display_data"
    }
   ],
   "source": [
    "# Logistic Regression: Get the prediction probabilities\n",
    "log_probs = best_model_log.predict_proba(X_test)\n",
    "# Take the max probability for each prediction to represent confidence\n",
    "log_confidences = log_probs.max(axis=1)\n",
    "# Calculate the average confidence across all predictions\n",
    "avg_confidence_log = log_confidences.mean()\n",
    "\n",
    "# Random Forest: Get the prediction probabilities\n",
    "rf_probs = best_model_rf_compare.predict_proba(X_test)\n",
    "# Take the max probability for each prediction to represent confidence\n",
    "rf_confidences = rf_probs.max(axis=1)\n",
    "# Calculate the average confidence across all predictions\n",
    "avg_confidence_rf = rf_confidences.mean()\n",
    "\n",
    "print(f'Average prediction confidence for Logistic Regression: {avg_confidence_log:.4f}')\n",
    "print(f'Average prediction confidence for Random Forest: {avg_confidence_rf:.4f}')\n",
    "# Histogram for Logistic Regression confidence levels\n",
    "plt.subplot(1, 2, 1)\n",
    "plt.hist(log_confidences, bins=20, color='blue', alpha=0.7, label='Logistic Regression')\n",
    "plt.axvline(avg_confidence_log, color='darkblue', linestyle='dashed', linewidth=1)\n",
    "plt.title('Logistic Regression Confidence Levels')\n",
    "plt.xlabel('Confidence Level')\n",
    "plt.ylabel('Frequency')\n",
    "plt.ylim(0, 80)\n",
    "plt.legend()\n",
    "\n",
    "# Histogram for Random Forest confidence levels\n",
    "plt.subplot(1, 2, 2)\n",
    "plt.hist(rf_confidences, bins=20, color='green', alpha=0.7, label='Random Forest')\n",
    "plt.axvline(avg_confidence_rf, color='darkgreen', linestyle='dashed', linewidth=1)\n",
    "plt.title('Random Forest Confidence Levels')\n",
    "plt.ylim(0, 80)\n",
    "plt.xlabel('Confidence Level')\n",
    "plt.legend()\n",
    "\n",
    "plt.tight_layout()\n",
    "plt.show()"
   ],
   "metadata": {
    "collapsed": false,
    "ExecuteTime": {
     "end_time": "2024-04-04T21:54:42.265425Z",
     "start_time": "2024-04-04T21:54:42.043580Z"
    }
   },
   "id": "7f89a57792832b3f",
   "execution_count": 14
  },
  {
   "cell_type": "markdown",
   "source": [
    "After looking at these results we see that logistic regression is the best option. The confusion matrices are the same and the accuracy is also the same. But the prediction confidence is almost 1.5% higher. Logistic regression also offers some extra benefits of being a less complex. Looking at the charts we can see there are a significant high number of logistic regression confidence values of very close to 100%. There is also less closer to the 50% area, which at that point is not much better than a guess. "
   ],
   "metadata": {
    "collapsed": false
   },
   "id": "fbb038a27cec6ee4"
  },
  {
   "cell_type": "code",
   "outputs": [
    {
     "name": "stdout",
     "output_type": "stream",
     "text": [
      "   Cl.thickness  Cell.size  Cell.shape  Marg.adhesion  Epith.c.size  Bare.nuclei  Bl.cromatin  Normal.nucleoli  Mitoses\n",
      "0             2          1           2              4             5            3            2                4        1\n",
      "The patient has a malignant tumor with a confidence level of: 0.67\n",
      "From the results on testing our model there is a 1.75% probability of a false positive and a 2.5% of a false negative.\n"
     ]
    }
   ],
   "source": [
    "#creating a useable model to predict\n",
    "\n",
    "\n",
    "# Initialize an empty dictionary to store user input\n",
    "patient_data = {}\n",
    "\n",
    "for attrib in cat_attribs:\n",
    "    while True:  # Start an infinite loop to keep asking for input until it's valid\n",
    "        try:\n",
    "            user_input = input(f\"What is the patient's data for {attrib}? (Enter a number between 1 and 10) \")\n",
    "            user_input = int(user_input)  # Convert input to integer for comparison\n",
    "            if 1 <= user_input <= 10:  # Check if input is within the desired range\n",
    "                patient_data[attrib] = [user_input]  # If valid, add it to the dictionary\n",
    "                break  # Break the loop to move to the next attribute\n",
    "            else:\n",
    "                print(\"Input is out of range. Please enter a number between 1 and 10.\")\n",
    "        except ValueError:  # Catch the exception if conversion to integer fails\n",
    "            print(\"Invalid input. Please enter a numeric value between 1 and 10.\")\n",
    "            \n",
    "# Convert the dictionary to a pandas DataFrame\n",
    "patient_dataframe = pd.DataFrame.from_dict(patient_data)\n",
    "print(patient_dataframe.to_string())\n",
    "\n",
    "# Predict the probability of each class\n",
    "probs = best_model_log.predict_proba(patient_dataframe)\n",
    "\n",
    "prob_class_0 = probs[0][0]  # Probability of the sample being in class 0\n",
    "prob_class_1 = probs[0][1]  # Probability of the sample being in class 1\n",
    "\n",
    "if prob_class_0 > 0.5:\n",
    "    # The model is more confident that the sample belongs to the positive class\n",
    "    print(f\"The patient has a benign tumor with a confidence level of: {prob_class_0:.2f}\")\n",
    "else:\n",
    "    # The model is more confident that the sample belongs to the negative class\n",
    "    print(f\"The patient has a malignant tumor with a confidence level of: {prob_class_1:.2f}\")\n",
    "\n",
    "print(\"From the results on testing our model there is a 1.75% probability of a false positive and a 2.5% of a false negative.\" )\n"
   ],
   "metadata": {
    "collapsed": false,
    "ExecuteTime": {
     "end_time": "2024-04-04T21:54:53.569012Z",
     "start_time": "2024-04-04T21:54:44.767086Z"
    }
   },
   "id": "dbc8ddc2a1275bad",
   "execution_count": 15
  },
  {
   "cell_type": "code",
   "outputs": [],
   "source": [],
   "metadata": {
    "collapsed": false
   },
   "id": "b385714a092edcce"
  }
 ],
 "metadata": {
  "kernelspec": {
   "display_name": "Python 3",
   "language": "python",
   "name": "python3"
  },
  "language_info": {
   "codemirror_mode": {
    "name": "ipython",
    "version": 2
   },
   "file_extension": ".py",
   "mimetype": "text/x-python",
   "name": "python",
   "nbconvert_exporter": "python",
   "pygments_lexer": "ipython2",
   "version": "2.7.6"
  }
 },
 "nbformat": 4,
 "nbformat_minor": 5
}
